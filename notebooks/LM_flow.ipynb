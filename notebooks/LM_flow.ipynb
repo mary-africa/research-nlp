{
 "cells": [
  {
   "cell_type": "code",
   "execution_count": 1,
   "id": "388c373d-1b9c-4d79-a0fa-0be05f36a3cd",
   "metadata": {},
   "outputs": [],
   "source": [
    "import sys\n",
    "if \"../\" not in sys.path: sys.path.insert(0,\"../\");"
   ]
  },
  {
   "cell_type": "markdown",
   "id": "8f5125c4-8a58-4ad1-9a0a-a41c21ff40fd",
   "metadata": {},
   "source": [
    "## [EXPERIMENTAL] Modelling\n",
    "\n",
    "This section is for the model shaping and training. There will be multiple iteration of the language model. This Page MUST use the components that are in the `marynlp` package. Here we go!!"
   ]
  },
  {
   "cell_type": "code",
   "execution_count": null,
   "id": "afec908e-14bf-4efa-bd8c-3ed32cd3dc71",
   "metadata": {},
   "outputs": [],
   "source": []
  }
 ],
 "metadata": {
  "kernelspec": {
   "display_name": "Python 3.7.9 64-bit ('venv': venv)",
   "language": "python",
   "name": "pythonjvsc74a57bd069a7e0843bc35a71a97378535d2c070d3d2cfd63b216ff99a2c8e0e8d31df048"
  },
  "language_info": {
   "codemirror_mode": {
    "name": "ipython",
    "version": 3
   },
   "file_extension": ".py",
   "mimetype": "text/x-python",
   "name": "python",
   "nbconvert_exporter": "python",
   "pygments_lexer": "ipython3",
   "version": "3.7.11"
  }
 },
 "nbformat": 4,
 "nbformat_minor": 5
}
