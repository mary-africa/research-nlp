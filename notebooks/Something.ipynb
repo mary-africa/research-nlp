{
 "cells": [
  {
   "cell_type": "code",
   "execution_count": 1,
   "id": "b804cf37-f405-4ebf-99ed-d2bbba333858",
   "metadata": {},
   "outputs": [],
   "source": [
    "import sys\n",
    "if \"../\" not in sys.path: sys.path.insert(0,\"../\");"
   ]
  },
  {
   "cell_type": "markdown",
   "id": "428d7aa7-a73f-4822-8d67-29eb0d157cb2",
   "metadata": {},
   "source": [
    "# Building word breaking"
   ]
  },
  {
   "cell_type": "code",
   "execution_count": 119,
   "id": "0e066f79-ec80-496a-b433-233845676f6e",
   "metadata": {},
   "outputs": [],
   "source": [
    "class token(str):\n",
    "    def __new__(cls, o, *args, **kwargs):\n",
    "        _str = str.__new__(cls,  o, *args, **kwargs)\n",
    "        _str._o = o\n",
    "        return _str\n",
    "\n",
    "    def __repr__(self):\n",
    "        return \"t'%s'\" % (self._o)\n",
    "    \n",
    "class byte(token):\n",
    "    \"\"\"Unit representation of an value\"\"\"\n",
    "    def __repr__(self):\n",
    "        return \"b'%s'\" % (self._o)\n",
    "\n",
    "class morph(token):\n",
    "    \"\"\"token  object that represent subword\"\"\"\n",
    "    def __repr__(self):\n",
    "        return \"m'%s'\" % (self._o)\n",
    "\n",
    "class word(token):\n",
    "    \"\"\"token object that prepresentes a word\"\"\"\n",
    "    def __repr__(self):\n",
    "        return \"w'%s'\" % (self._o)"
   ]
  },
  {
   "cell_type": "code",
   "execution_count": 120,
   "id": "beda345d-5ebc-4437-abdc-cb4189b8e7de",
   "metadata": {},
   "outputs": [],
   "source": [
    "from typing import List, Iterable, Union, Sequence, Tuple\n",
    "from itertools import chain\n",
    "\n",
    "from functools import partial\n",
    "from marynlp import funcutils as f\n",
    "\n",
    "def add_start_end_mark_on_byte_sequence(byte_seq: Sequence[byte], sw: byte, ew: byte) -> Sequence[byte]:\n",
    "    \"\"\"Adding the start and end marker\"\"\"\n",
    "    if len(byte_seq) >= 2:\n",
    "        return list(chain([sw + byte_seq[0], *byte_seq[1:-1], byte_seq[-1] + ew]))\n",
    "                           \n",
    "    return [(sw + byte_seq[0] + ew)]\n",
    "\n",
    "# function to break the rules\n",
    "def simple_break_word(w: Union[word, str]) -> Iterable[byte]:\n",
    "    # convert to word\n",
    "    return list(word(w))\n",
    "\n",
    "def get_all_possible_byte_pair_in_sequence(byte_seq: Sequence[byte], sw: byte, ew: byte) -> Iterable[Tuple[byte, byte]]:\n",
    "    byte_seq = tuple(byte_seq)\n",
    "    return chain([(sw, byte_seq[0]), *zip(byte_seq[:-1], byte_seq[1:]), (byte_seq[-1], ew)])\n",
    "\n",
    "def get_possible_byte_pair_sequence(byte_seq: Iterable[byte], sw: byte, ew: byte) -> Iterable[Union[byte, Tuple[byte, byte]]]:\n",
    "    bps = tuple(get_all_possible_byte_pair_in_sequence(byte_seq, sw, ew))\n",
    "    f1, f2 = [bps[i] for i in range(0, len(bps), 2)], [bps[i] for i in range(1, len(bps), 2)]\n",
    "    return tuple(f1), tuple(f2)\n",
    "\n",
    "START_BYTE_MARKER: byte = \"<\"\n",
    "END_BYTE_MARKER: byte = \">\"\n",
    "    \n",
    "prepare_word = f.apply(f.partial(get_all_possible_byte_pair_in_sequence, sw=START_BYTE_MARKER, ew=END_BYTE_MARKER))(simple_break_word)"
   ]
  },
  {
   "cell_type": "code",
   "execution_count": 121,
   "id": "c6119038-94d8-4726-b2ed-3f56d1c3de75",
   "metadata": {},
   "outputs": [
    {
     "data": {
      "text/plain": [
       "((('<', 'a'), ('n', 'a'), ('e', 'n'), ('d', 'a')),\n",
       " (('a', 'n'), ('a', 'e'), ('n', 'd'), ('a', '>')))"
      ]
     },
     "execution_count": 121,
     "metadata": {},
     "output_type": "execute_result"
    }
   ],
   "source": [
    "\n",
    "out = simple_break_word(\"anaenda\")\n",
    "bps = get_all_possible_byte_pair_in_sequence(out, sw=START_BYTE_MARKER, ew=END_BYTE_MARKER)\n",
    "# bps = tuple(bps)\n",
    "# f1, f2 = tuple([bps[i] for i in range(0, len(bps), 2)]), tuple([bps[i] for i in range(1, len(bps), 2)])\n",
    "\n",
    "get_possible_byte_pair_sequence(out, sw=START_BYTE_MARKER, ew=END_BYTE_MARKER)"
   ]
  },
  {
   "cell_type": "code",
   "execution_count": 122,
   "id": "a5e4f8fa-1f59-4e8f-afda-cf9e0d57d133",
   "metadata": {},
   "outputs": [],
   "source": [
    "from collections import Counter\n",
    "\n",
    "words = ['kaenda', 'haendi', 'anaenda', 'rudi']\n",
    "\n",
    "# Byte counter to use\n",
    "byte_counter = Counter(list())\n",
    "byte_pair_counter = Counter()\n",
    "\n",
    "# add all the pairs\n",
    "for w in words:\n",
    "    byte_seq = simple_break_word(w)\n",
    "    all_possible = tuple(get_all_possible_byte_pair_in_sequence(byte_seq, sw=START_BYTE_MARKER, ew=END_BYTE_MARKER))\n",
    "    byte_pair_counter = byte_pair_counter + Counter(all_possible)\n"
   ]
  },
  {
   "cell_type": "code",
   "execution_count": 134,
   "id": "f0d0020d-407c-4544-955f-76b882595f89",
   "metadata": {},
   "outputs": [
    {
     "name": "stdout",
     "output_type": "stream",
     "text": [
      "haendi\n"
     ]
    }
   ],
   "source": [
    "def break_word(wo: word, counter_object: Counter):\n",
    "    print(wo)\n",
    "    \n",
    "break_word(\"haendi\", Counter())"
   ]
  },
  {
   "cell_type": "code",
   "execution_count": 132,
   "id": "558ef440-609e-4d9c-89a0-9cf229e46366",
   "metadata": {},
   "outputs": [
    {
     "data": {
      "text/plain": [
       "[('a', 4),\n",
       " ('en', 3),\n",
       " ('da', 2),\n",
       " ('di', 2),\n",
       " ('k', 1),\n",
       " ('h', 1),\n",
       " ('n', 1),\n",
       " ('r', 1),\n",
       " ('u', 1)]"
      ]
     },
     "execution_count": 132,
     "metadata": {},
     "output_type": "execute_result"
    }
   ],
   "source": [
    "\"\"\"\n",
    "Get Pairs\n",
    "\"\"\"\n",
    "\n",
    "def score_function(byte_pair_sequence, byte_pair_counter):\n",
    "    return sum(map(lambda b: byte_pair_counter[b], byte_pair_sequence))\n",
    "\n",
    "# @f.apply(token)\n",
    "def merge_bytes(byte_pair: Sequence[byte]) -> List[token]:\n",
    "    return \"\".join(byte_pair)\n",
    "\n",
    "score_fn = f.partial(score_function, byte_pair_counter=byte_pair_counter)\n",
    "MERGE_SCORE = 1\n",
    "\n",
    "# Can start with different one\n",
    "group_counter = Counter()\n",
    "\n",
    "for w in words:\n",
    "    byte_seq = simple_break_word(w)\n",
    "    all_possible_forms = tuple(get_possible_byte_pair_sequence(byte_seq, sw=START_BYTE_MARKER, ew=END_BYTE_MARKER))\n",
    "    left, right = all_possible_forms\n",
    "    \n",
    "    left_score, right_score = score_fn(left), score_fn(right)\n",
    "    \n",
    "    chosen_pair = left\n",
    "    if left_score > right_score:\n",
    "        chosen_pair = right\n",
    "\n",
    "    for cp in chosen_pair:\n",
    "        b_score = byte_pair_counter[cp]\n",
    "        if b_score > MERGE_SCORE:\n",
    "            # merge to new \n",
    "            group_counter[merge_bytes(cp)] += 1            \n",
    "        else:\n",
    "            for byt in filter(lambda b: b != START_BYTE_MARKER and b != END_BYTE_MARKER, cp):\n",
    "                group_counter[byt] += 1\n",
    "    \n",
    "#     print(chosen_pair)\n",
    "#     print(\"-\"*50)\n",
    "group_counter.most_common()"
   ]
  },
  {
   "cell_type": "code",
   "execution_count": null,
   "id": "c167ab1b-85bf-415c-9c67-702eeb5bd9a6",
   "metadata": {},
   "outputs": [],
   "source": []
  }
 ],
 "metadata": {
  "kernelspec": {
   "display_name": "Python 3.7.9 64-bit ('venv': venv)",
   "language": "python",
   "name": "pythonjvsc74a57bd069a7e0843bc35a71a97378535d2c070d3d2cfd63b216ff99a2c8e0e8d31df048"
  },
  "language_info": {
   "codemirror_mode": {
    "name": "ipython",
    "version": 3
   },
   "file_extension": ".py",
   "mimetype": "text/x-python",
   "name": "python",
   "nbconvert_exporter": "python",
   "pygments_lexer": "ipython3",
   "version": "3.7.9"
  }
 },
 "nbformat": 4,
 "nbformat_minor": 5
}
