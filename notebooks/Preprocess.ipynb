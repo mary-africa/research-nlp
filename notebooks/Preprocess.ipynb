{
 "cells": [
  {
   "cell_type": "code",
   "execution_count": 1,
   "id": "e49a5d8e-c1ac-4869-a580-161e093fb321",
   "metadata": {},
   "outputs": [],
   "source": [
    "import sys\n",
    "if \"../\" not in sys.path: sys.path.insert(0,\"../\");"
   ]
  },
  {
   "cell_type": "markdown",
   "id": "6bec4dcc-7221-47b9-8fbf-4c34dc953a9b",
   "metadata": {},
   "source": [
    "## [EXPERIMENTAL] PRE P R O C E S S I N G\n",
    "\n",
    "This is the main part of the code that will contain different variation of pre processing that are needed to further the research. Ideally, this file will mutate"
   ]
  },
  {
   "cell_type": "code",
   "execution_count": null,
   "id": "88b3241a-5b58-426d-8574-17d153c65df7",
   "metadata": {},
   "outputs": [],
   "source": []
  }
 ],
 "metadata": {
  "kernelspec": {
   "display_name": "Python 3.7.9 64-bit ('venv': venv)",
   "language": "python",
   "name": "pythonjvsc74a57bd069a7e0843bc35a71a97378535d2c070d3d2cfd63b216ff99a2c8e0e8d31df048"
  },
  "language_info": {
   "codemirror_mode": {
    "name": "ipython",
    "version": 3
   },
   "file_extension": ".py",
   "mimetype": "text/x-python",
   "name": "python",
   "nbconvert_exporter": "python",
   "pygments_lexer": "ipython3",
   "version": "3.7.9"
  }
 },
 "nbformat": 4,
 "nbformat_minor": 5
}
