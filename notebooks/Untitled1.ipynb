{
 "cells": [
  {
   "cell_type": "code",
   "execution_count": 1,
   "id": "06d84e29-895b-4ecb-91f4-7a75a13b676c",
   "metadata": {},
   "outputs": [],
   "source": [
    "import sys\n",
    "if \"../\" not in sys.path: sys.path.insert(0,\"../\");"
   ]
  },
  {
   "cell_type": "code",
   "execution_count": 7,
   "id": "d93ad8dc-5b0d-4409-82cd-188a0c1d3942",
   "metadata": {},
   "outputs": [],
   "source": [
    "from typing import Tuple\n",
    "from experimental.sed import MorphologyAnalyzer\n",
    "analyzer = MorphologyAnalyzer(\"../resources/pretrained/models_sed_morpheme_template.txt\")\n",
    "\n",
    "def break_word(word: str, analyzer) -> Tuple[str]:\n",
    "    return tuple([ su for su in analyzer.break_text([word])[word]])\n"
   ]
  },
  {
   "cell_type": "code",
   "execution_count": 13,
   "id": "adc995ca-ca6b-4e69-9d47-7215c040507d",
   "metadata": {},
   "outputs": [],
   "source": [
    "from typing import Iterable, List\n",
    "from marynlp import funcutils as f\n",
    "\n",
    "from tqdm import tqdm\n",
    "\n",
    "@f.apply(set)\n",
    "def get_unique_item_from_item_sequences(word_sequences: Iterable[Iterable[str]]):\n",
    "    for word_seq in word_sequences:\n",
    "        for word in word_seq:\n",
    "            word = word.strip()\n",
    "            if len(word) != 0:\n",
    "                yield word\n",
    "\n",
    "@f.apply(set)\n",
    "def get_unique_morphemes(words: Iterable[str], analyzer_break_word):\n",
    "    for word in tqdm(words):\n",
    "        for morph in analyzer_break_word(word):\n",
    "            yield morph\n",
    "\n",
    "\n",
    "def read_text_from_files(txt_file_path: str):\n",
    "    with open(txt_file_path, mode=\"r\") as rb:\n",
    "        return rb.readlines()\n",
    "    \n",
    "@f.apply(set)\n",
    "def load_tokens(store_path):\n",
    "    with open(str(store_path), 'r') as file:\n",
    "        for y in json.load(file):\n",
    "            for i in y:\n",
    "                yield i\n",
    "\n",
    "import re\n",
    "read_word_sequence_from_file = f.forEach(lambda l: re.split(r\"\\s+\", l.strip()))(read_text_from_files)\n"
   ]
  },
  {
   "cell_type": "code",
   "execution_count": 20,
   "id": "254c2208-85a7-40fb-9f51-ba98364d3711",
   "metadata": {},
   "outputs": [],
   "source": [
    "from marynlp import funcutils as f\n",
    "\n",
    "import json\n",
    "\n",
    "from marynlp.text.data import Vocab\n",
    "from marynlp.text.processor import TokenEncoder\n",
    "from marynlp.text.processor import BaseTokenEncoder \n",
    "\n",
    "word_vocab = Vocab(unique_words)\n",
    "\n",
    "word_tokenizer = BaseTokenEncoder(word_vocab.get_tokens() + ['<UNK>'])\n",
    "morpheme_tokenizer = TokenEncoder(Vocab(load_tokens(\"../resources/pretrained/models_small-tkns.txt\")))"
   ]
  },
  {
   "cell_type": "code",
   "execution_count": 21,
   "id": "747949ad-b851-430d-a06b-39a9f4080967",
   "metadata": {},
   "outputs": [],
   "source": [
    "from experimental.sed.modules import CompositionalEmbeddings, CompositionalLanguageModel\n",
    "\n",
    "morph_embedder = CompositionalEmbeddings(\n",
    "    morpheme_vocab_size=morpheme_tokenizer.size,\n",
    "    embedding_dim = 512,\n",
    "    hidden_dim = 512,\n",
    "    composition_fn = 'rnn',\n",
    "    use_cuda=False\n",
    ");"
   ]
  },
  {
   "cell_type": "code",
   "execution_count": 22,
   "id": "2208920b-53e8-4641-bb76-c2cde31e9d80",
   "metadata": {},
   "outputs": [],
   "source": [
    "from marynlp.utils.storage import download as dl\n",
    "from marynlp.utils import storage\n",
    "from marynlp.utils.storage import local\n",
    "\n",
    "sed_small_embeddings_pth = local.get_path_from_store(\"./sed_small_embeddings.pth\")\n",
    "\n",
    "if not sed_small_embeddings_pth.exists():\n",
    "    print(\"Downloading %s...\" % (sed_small_embeddings_pth))\n",
    "    # create folders\n",
    "    sed_small_embeddings_pth.parent.mkdir(exist_ok=True, parents=True)\n",
    "    sed_small_embeddings_pth = dl.file_from_google(\"models/embeddings/small-embeddings.pth\", bucket, str(sed_small_embeddings_pth))\n",
    "\n",
    "morph_embedder.update_weight_from_path(sed_small_embeddings_pth)"
   ]
  },
  {
   "cell_type": "code",
   "execution_count": null,
   "id": "5d410b3b-7fc1-4fa1-90fb-022ee3642375",
   "metadata": {},
   "outputs": [],
   "source": []
  }
 ],
 "metadata": {
  "kernelspec": {
   "display_name": "Python 3 (ipykernel)",
   "language": "python",
   "name": "python3"
  },
  "language_info": {
   "codemirror_mode": {
    "name": "ipython",
    "version": 3
   },
   "file_extension": ".py",
   "mimetype": "text/x-python",
   "name": "python",
   "nbconvert_exporter": "python",
   "pygments_lexer": "ipython3",
   "version": "3.7.11"
  }
 },
 "nbformat": 4,
 "nbformat_minor": 5
}
