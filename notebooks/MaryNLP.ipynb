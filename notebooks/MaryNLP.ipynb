{
 "cells": [
  {
   "cell_type": "code",
   "execution_count": 4,
   "id": "e4d387e5-11f4-4d95-a681-a07c16f4e14b",
   "metadata": {},
   "outputs": [],
   "source": [
    "import sys\n",
    "if \"../\" not in sys.path: sys.path.insert(0,\"../\");"
   ]
  },
  {
   "cell_type": "markdown",
   "id": "10565d4e-74e8-40f3-848c-6c790ec9ebe8",
   "metadata": {},
   "source": [
    "## Building utilities for marynlp\n",
    "\n",
    "Creating multiple utilities for building models, downloading the files and a tone of other things"
   ]
  },
  {
   "cell_type": "code",
   "execution_count": 5,
   "id": "7766d9ea-6a86-487d-814c-5755f3ae6111",
   "metadata": {},
   "outputs": [],
   "source": [
    "## Module downloading sequence"
   ]
  },
  {
   "cell_type": "code",
   "execution_count": 8,
   "id": "c7699651-5b78-4bc9-83db-0a8be81a41c9",
   "metadata": {},
   "outputs": [
    {
     "data": {
      "text/plain": [
       "'/tmp/tmp7onungq4/models/sed_morpheme_template.txt'"
      ]
     },
     "execution_count": 8,
     "metadata": {},
     "output_type": "execute_result"
    }
   ],
   "source": [
    "## Using the SED Morpheme template\n",
    "from marynlp.utils.storage import download as dl\n",
    "from marynlp.utils import storage\n",
    "\n",
    "# setup the download bucket\n",
    "bucket = storage.get_bucket(\"../resources/mary_africa_credentials_key.json\", \"marynlp-private\")\n",
    "\n",
    "morpheme_template_file = dl.file_from_google_temporary(\"models/sed_morpheme_template.txt\", bucket); morpheme_template_file"
   ]
  },
  {
   "cell_type": "code",
   "execution_count": null,
   "id": "3f512ead-86d5-4cbc-891e-382a497db6fd",
   "metadata": {},
   "outputs": [],
   "source": []
  }
 ],
 "metadata": {
  "kernelspec": {
   "display_name": "Python 3 (ipykernel)",
   "language": "python",
   "name": "python3"
  },
  "language_info": {
   "codemirror_mode": {
    "name": "ipython",
    "version": 3
   },
   "file_extension": ".py",
   "mimetype": "text/x-python",
   "name": "python",
   "nbconvert_exporter": "python",
   "pygments_lexer": "ipython3",
   "version": "3.7.11"
  }
 },
 "nbformat": 4,
 "nbformat_minor": 5
}
