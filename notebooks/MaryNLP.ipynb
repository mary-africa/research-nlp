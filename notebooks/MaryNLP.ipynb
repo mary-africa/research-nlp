{
 "cells": [
  {
   "cell_type": "code",
   "execution_count": 1,
   "id": "e4d387e5-11f4-4d95-a681-a07c16f4e14b",
   "metadata": {},
   "outputs": [],
   "source": [
    "import sys\n",
    "if \"../\" not in sys.path: sys.path.insert(0,\"../\");"
   ]
  },
  {
   "cell_type": "markdown",
   "id": "10565d4e-74e8-40f3-848c-6c790ec9ebe8",
   "metadata": {},
   "source": [
    "## Building utilities for marynlp\n",
    "\n",
    "Creating multiple utilities for building models, downloading the files and a tone of other things"
   ]
  },
  {
   "cell_type": "code",
   "execution_count": 2,
   "id": "7766d9ea-6a86-487d-814c-5755f3ae6111",
   "metadata": {},
   "outputs": [],
   "source": [
    "## Module downloading sequence"
   ]
  },
  {
   "cell_type": "code",
   "execution_count": 3,
   "id": "3264e557-8c5a-4453-827d-3f75e90d8680",
   "metadata": {},
   "outputs": [],
   "source": [
    "flair_gcp = {\n",
    "    'sw-exp-sent_analy-small': 'flair/classifier/sw-exp-sent_analy-small.zip',\n",
    "    'early-wpc': 'flair/classifier/exp-wpc-small.zip',\n",
    "    'early-sentiment-hasf': 'flair/classifier/sw-ft100-ffw-bilstm-exp-sent_analy-small-h256-noreproj.zip',\n",
    "    'early-alpha-tag-ner': 'flair/taggers/sw-ner-gen1f-base.zip',\n",
    "    'early-alpha-tag-pos': 'flair/taggers/sw-pos-early-h256.zip',\n",
    "}\n",
    "\n",
    "small_one = \"flair-h_128-nl_1-f-char_lvl.zip\""
   ]
  },
  {
   "cell_type": "code",
   "execution_count": 9,
   "id": "67c64ac5-8ca7-4eb6-8d0a-07bd53109e0c",
   "metadata": {},
   "outputs": [],
   "source": [
    "from marynlp.utils import storage\n",
    "\n",
    "def get_model_path_from_bucket(model_path: str):\n",
    "    pass\n",
    "\n",
    "bucket = storage.get_bucket(\"../resources/mary_africa_credentials_key.json\", \"marynlp-private\")\n",
    "\n",
    "# create the path\n",
    "from pathlib import Path\n",
    "save_path = Path(\"./temp/stuff.zip\")\n",
    "save_path.parent.mkdir(exist_ok=True)\n",
    "path = storage.localize_google_cloud_file(\"flair-h_128-nl_1-f-char_lvl.zip\", bucket=bucket, save_to_path=\"./temp/stuff.zip\")\n"
   ]
  },
  {
   "cell_type": "code",
   "execution_count": 11,
   "id": "74537ba3-0287-47a5-9eef-83adef3bcf44",
   "metadata": {},
   "outputs": [],
   "source": [
    "# Unzip the path\n",
    "storage.unzip_file(path, './stuff_contents')"
   ]
  },
  {
   "cell_type": "code",
   "execution_count": 14,
   "id": "2798688b-5b9f-4650-b573-102234009493",
   "metadata": {},
   "outputs": [
    {
     "data": {
      "text/plain": [
       "'/tmp/tmp7m30mcf_/flair-h_128-nl_1-f-char_lvl.zip'"
      ]
     },
     "execution_count": 14,
     "metadata": {},
     "output_type": "execute_result"
    }
   ],
   "source": [
    "temp_path = storage.local.get_temp_path(\"flair-h_128-nl_1-f-char_lvl.zip\"); temp_path"
   ]
  },
  {
   "cell_type": "code",
   "execution_count": 28,
   "id": "648899be-1966-4ff0-83fe-b55397eab844",
   "metadata": {},
   "outputs": [],
   "source": [
    "from marynlp.utils import storage\n",
    "\n",
    "\n",
    "def download_file_from_google_temporary(cloud_file_blob_name: str, bucket):\n",
    "    store_local_path = storage.local.get_temp_path(cloud_file_blob_name)\n",
    "    return download_file_from_google(cloud_file_blob_name, bucket, store_local_path)\n",
    "\n",
    "def download_file_from_google_to_store(cloud_file_blob_name: str, bucket):\n",
    "    store_local_path = storage.local.get_path_from_store(cloud_file_blob_name)\n",
    "    return download_file_from_google(cloud_file_blob_name, bucket, store_local_path)\n",
    "\n",
    "def download_file_from_google(cloud_file_blob_name: str, bucket, save_to_path: str):\n",
    "    # create parent folders\n",
    "    Path(save_to_path).parent.mkdir(exist_ok=True)\n",
    "    return storage.localize_google_cloud_file(cloud_file_blob_name, bucket=bucket, save_to_path=save_to_path)\n",
    "\n",
    "def prepare_zipped_model_from_google(cloud_file_blob_name: str, bucket, folder_name_for_contents: str = None):\n",
    "    # download model to temporary location\n",
    "    print('Downloading:', cloud_file_blob_name)\n",
    "    temp_zipped_path = download_file_from_google_temporary(cloud_file_blob_name, bucket)\n",
    "    print(\"Temp path:\", temp_zipped_path)\n",
    "    \n",
    "    store_folder_name = folder_name_for_contents\n",
    "    if folder_name_for_contents is None:\n",
    "        # get the new name\n",
    "        store_folder_name = \".\".join(cloud_file_blob_name.split(\".\")[:-1])  \n",
    "    \n",
    "    # unzip to differen location\n",
    "    store_folder_path = storage.local.get_path_from_store(store_folder_name)\n",
    "    storage.unzip_file(temp_zipped_path, store_folder_path)    \n",
    "    print(\"Unzipped to path:\", store_folder_path)\n",
    "    \n",
    "    return str(store_folder_path)"
   ]
  },
  {
   "cell_type": "code",
   "execution_count": 29,
   "id": "124fe58c-74a1-45aa-9a8d-4a89d596f553",
   "metadata": {},
   "outputs": [
    {
     "name": "stdout",
     "output_type": "stream",
     "text": [
      "Downloading: flair-h_128-nl_1-f-char_lvl.zip\n",
      "Temp path: /tmp/tmpbv4tdenj/flair-h_128-nl_1-f-char_lvl.zip\n",
      "Unzipped to path: /home/iam-kevin/.marynlp/store/flair-h_128-nl_1-f-char_lvl\n"
     ]
    }
   ],
   "source": [
    "model_location = prepare_zipped_model_from_google(\"flair-h_128-nl_1-f-char_lvl.zip\", bucket)"
   ]
  },
  {
   "cell_type": "code",
   "execution_count": 30,
   "id": "a0ea497c-e787-4535-bebb-c4959d8ed6a2",
   "metadata": {},
   "outputs": [],
   "source": [
    "from marynlp import funcutils as f\n",
    "\n",
    "# Flair relatedel models\n",
    "FLAIR_TEXT_CLASSIFIERS = {\n",
    "    'sw-exp-sent_analy-small': ('flair/classifier/sw-exp-sent_analy-small.zip', True),\n",
    "    'early-wpc': ('flair/classifier/exp-wpc-small.zip', True),\n",
    "    'early-sentiment-hasf': ('flair/classifier/sw-ft100-ffw-bilstm-exp-sent_analy-small-h256-noreproj.zip', True)\n",
    "}\n",
    "\n",
    "FLAIR_SEQUENCE_TAGGERS = {\n",
    "    'early-alpha-tag-ner': ('flair/taggers/sw-ner-gen1f-base.zip', True),\n",
    "    'early-alpha-tag-pos': ('flair/taggers/sw-pos-early-h256.zip', True)\n",
    "}\n",
    "\n",
    "def get_model_from_google_bucket(src: str, flair_model_path_dict, bucket):\n",
    "    \"\"\"Gets the model\"\"\"\n",
    "    if src not in flair_model_path_dict:\n",
    "        assert Path(src).exists(), \"The model path '%s' doesn't exist\" % src\n",
    "        return src\n",
    "    \n",
    "    # download the model and provice it\n",
    "    blob_name, zipped = flair_model_path_dict[src]\n",
    "    \n",
    "    if zipped:\n",
    "        # downloads the model and unzip\n",
    "        return prepare_zipped_model_from_google(blob_name, bucket)\n",
    "    \n",
    "    # if not zipped\n",
    "    return download_file_from_google_to_store(blob_name, bucket)\n",
    "\n",
    "build_sequence_tagger: SequenceTagger = f.apply(SequenceTagger.load)(get_model_from_google_bucket)"
   ]
  },
  {
   "cell_type": "code",
   "execution_count": null,
   "id": "c7699651-5b78-4bc9-83db-0a8be81a41c9",
   "metadata": {},
   "outputs": [],
   "source": []
  }
 ],
 "metadata": {
  "kernelspec": {
   "display_name": "Python 3 (ipykernel)",
   "language": "python",
   "name": "python3"
  },
  "language_info": {
   "codemirror_mode": {
    "name": "ipython",
    "version": 3
   },
   "file_extension": ".py",
   "mimetype": "text/x-python",
   "name": "python",
   "nbconvert_exporter": "python",
   "pygments_lexer": "ipython3",
   "version": "3.7.11"
  }
 },
 "nbformat": 4,
 "nbformat_minor": 5
}
