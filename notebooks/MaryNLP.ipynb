{
 "cells": [
  {
   "cell_type": "code",
   "execution_count": 1,
   "id": "e4d387e5-11f4-4d95-a681-a07c16f4e14b",
   "metadata": {},
   "outputs": [],
   "source": [
    "import sys\n",
    "if \"../\" not in sys.path: sys.path.insert(0,\"../\");"
   ]
  },
  {
   "cell_type": "markdown",
   "id": "10565d4e-74e8-40f3-848c-6c790ec9ebe8",
   "metadata": {},
   "source": [
    "## Building utilities for marynlp\n",
    "\n",
    "Creating multiple utilities for building models, downloading the files and a tone of other things"
   ]
  },
  {
   "cell_type": "code",
   "execution_count": null,
   "id": "aa98a8fa-8ff3-4bf8-b7b8-f1ac0c2396e3",
   "metadata": {},
   "outputs": [],
   "source": []
  },
  {
   "cell_type": "code",
   "execution_count": null,
   "id": "c3f09cc2-3a30-4b33-b716-e5770585b33f",
   "metadata": {},
   "outputs": [],
   "source": [
    "# downloading the data\n",
    "\n",
    "def cache_from_google_bucket(online_path: str, save_path: str, credentials_json_path: str, bucket_name: str = STORAGE_BUCKET, overwrite: bool = True, **bucket_blob_args):\n",
    "    \n",
    "    # Gets the google client associated with the service account\n",
    "    # NOTE: a valid service account needs to have the marynlp-private storage\n",
    "    google_client = None\n",
    "    \n",
    "    try:\n",
    "        google_client = storage.Client.from_service_account_json(str(credentials_json_path))\n",
    "    except DefaultCredentialsError:\n",
    "        logger.error('Unable to get client from credentials path')\n",
    "        raise\n",
    "    \n",
    "    save_path = Path(save_path)\n",
    "    \n",
    "    if save_path.exists():\n",
    "        logger.info('Data already exists in \\'%s\\'' % (str(save_path)))\n",
    "        \n",
    "        # if overwrite is false\n",
    "        if not overwrite:\n",
    "            logger.info('')\n",
    "            return False\n",
    "        \n",
    "        # ...\n",
    "        # overrite is true\n",
    "        logger.info('Overwriting contents')\n",
    "        \n",
    "    bucket = google_client.get_bucket(bucket_name)\n",
    "    \n",
    "    blob = bucket.blob(online_path, **bucket_blob_args)\n",
    "    blob.download_to_filename(str(save_path))\n",
    "    \n",
    "    logger.info('Contents in [%s:%s] have been cached to \\'%s\\'' % (bucket_name, str(online_path), str(save_path)))\n",
    "    "
   ]
  },
  {
   "cell_type": "markdown",
   "id": "c9f2fa7a-e82c-490d-a10f-fc8893eeaabd",
   "metadata": {},
   "source": [
    "### For working with files in GCP\n",
    "\n",
    "Working with files in the GCP"
   ]
  },
  {
   "cell_type": "code",
   "execution_count": 78,
   "id": "eb07a283-1f1c-44ae-905d-996c18fbdd30",
   "metadata": {},
   "outputs": [],
   "source": [
    "import os\n",
    "from typing import Union, Optional\n",
    "\n",
    "# stored in `marynlp.utils.storage.google`\n",
    "\n",
    "from google.cloud.storage import Client as GCStorageClient\n",
    "from google.cloud.storage.bucket import Bucket as GCBucket\n",
    "from google.cloud.storage.blob import Blob as GCBlob\n",
    "\n",
    "# creating the function that we need to download contents from the \n",
    "#  create utilities on to that you can use to create helpful information abou the output of the model\n",
    "def get_google_bucket_storage_client_from_credential_file(credential_file: Union[str, os.PathLike]) -> GCStorageClient:\n",
    "    return GCStorageClient.from_service_account_json(str(credential_file))\n",
    "\n",
    "def get_bucket_from_client(bucket_name: str, storage_client: GCStorageClient, *args, **kwargs) -> GCBucket:\n",
    "    bucket = storage_client.get_bucket(bucket_name, *args, **kwargs)\n",
    "    return bucket\n",
    "\n",
    "def get_blob_from_bucket(blob_name: str, bucket: GCBucket, *args, **kwargs) -> GCBlob:\n",
    "    return bucket.blob(blob_name, *args, **kwargs)\n",
    "\n",
    "def save_to_file(save_to_path: str, blob: GCBlob):\n",
    "    # save the contents of the file\n",
    "    blob.download_to_filename(save_to_path)"
   ]
  },
  {
   "cell_type": "code",
   "execution_count": 76,
   "id": "cf87260e-d22d-491f-b8da-19c83086ded0",
   "metadata": {},
   "outputs": [],
   "source": [
    "_256KB = 1024 * 256;\n",
    "\n",
    "storage_client_path = \"../resources/mary_africa_credentials_key.json\"\n",
    "\n",
    "# get_google_bucket_storage_client_from_credential_file(\"wrong_file\")\n",
    "gc = get_google_bucket_storage_client_from_credential_file(storage_client_path)\n",
    "bucket = get_bucket_from_client(\"inspired-nlp-bucket\", gc)\n",
    "blob = get_blob_from_bucket('ner.txt', bucket, chunk_size=1 * _256KB)\n"
   ]
  },
  {
   "cell_type": "code",
   "execution_count": null,
   "id": "38db34bd-196d-4938-829d-8f17d0082d15",
   "metadata": {},
   "outputs": [],
   "source": [
    "## file_system\n",
    "def get_local_path"
   ]
  },
  {
   "cell_type": "code",
   "execution_count": 89,
   "id": "147270f0-03eb-46ba-b410-213eaedccdfd",
   "metadata": {},
   "outputs": [
    {
     "name": "stderr",
     "output_type": "stream",
     "text": [
      "INFO:marynlp:Downloading 'ner.txt'...\n",
      "INFO:marynlp:Download complete: sample_file\n"
     ]
    }
   ],
   "source": [
    "# Store file\n",
    "import logging\n",
    "LOGGER_KEY = 'marynlp'\n",
    "\n",
    "nena_logger = logging.getLogger(LOGGER_KEY)\n",
    "\n",
    "\n",
    "def download_from_bucket(blob_name: str, save_filename: str, bucket: GCBucket):\n",
    "    nena_logger.info(\"Downloading '%s'...\" % blob_name)\n",
    "    blob = get_blob_from_bucket(blob_name, bucket)\n",
    "    save_to_file(save_filename, blob)\n",
    "    nena_logger.info('Download complete: ' + save_filename)\n",
    "    \n",
    "download_from_bucket('ner.txt', 'sample_file', bucket)"
   ]
  },
  {
   "cell_type": "code",
   "execution_count": 90,
   "id": "87844370-e172-484c-abb2-dde8275a0ad1",
   "metadata": {},
   "outputs": [],
   "source": [
    "## unzip the file\n",
    "from typing import Optional\n",
    "\n",
    "def unzip_file(file_to_zip: str, save_to_path: Optional[str] = None):\n",
    "    \"\"\"Unpacks the contents of `file_to_zip` to the location `save_to_path`\"\"\"\n",
    "    from zipfile import ZipFile\n",
    "\n",
    "    with ZipFile(file_to_zip, mode='r') as zpf:\n",
    "        zpf.extractall(path=save_to_path)\n",
    "\n",
    "# unzip_file(\"../resources/operate_on/assets_20201211204302.zip\", \"here\")\n"
   ]
  },
  {
   "cell_type": "code",
   "execution_count": 54,
   "id": "76b315b3-ff13-4075-8060-d3523a275a08",
   "metadata": {},
   "outputs": [
    {
     "data": {
      "text/plain": [
       "'\\x00\\x00\\x00\\x00\\x00\\x00\\x00\\x00\\x00\\x00\\x00\\x00\\x00\\x00\\x00\\x00\\x00\\x00\\x00\\x00\\x00\\x00\\x00\\x00\\x00\\x00\\x00\\x00\\x00\\x00\\x00\\x00\\x00\\x00\\x00\\x00\\x00\\x00\\x00\\x00\\x00\\x00\\x00\\x00\\x00\\x00\\x00\\x00\\x00\\x00\\x00\\x00\\x00\\x00\\x00\\x00\\x00\\x00\\x00\\x00'"
      ]
     },
     "execution_count": 54,
     "metadata": {},
     "output_type": "execute_result"
    }
   ],
   "source": [
    "bytes(60).decode('ascii')"
   ]
  }
 ],
 "metadata": {
  "kernelspec": {
   "display_name": "Python 3 (ipykernel)",
   "language": "python",
   "name": "python3"
  },
  "language_info": {
   "codemirror_mode": {
    "name": "ipython",
    "version": 3
   },
   "file_extension": ".py",
   "mimetype": "text/x-python",
   "name": "python",
   "nbconvert_exporter": "python",
   "pygments_lexer": "ipython3",
   "version": "3.7.11"
  }
 },
 "nbformat": 4,
 "nbformat_minor": 5
}
