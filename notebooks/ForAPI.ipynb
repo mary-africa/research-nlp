{
 "cells": [
  {
   "cell_type": "code",
   "execution_count": 1,
   "id": "579133ac-2e12-4201-a115-3fc7db44af94",
   "metadata": {},
   "outputs": [],
   "source": [
    "import sys\n",
    "if \"../\" not in sys.path: sys.path.insert(0,\"../\");"
   ]
  },
  {
   "cell_type": "code",
   "execution_count": 12,
   "id": "5387d344-fbb4-495d-92b9-b33322107d14",
   "metadata": {},
   "outputs": [],
   "source": [
    "## Setting up the needed to do anything\n",
    "from pathlib import Path\n",
    "from typing import Union, List, Iterable\n",
    "import os\n",
    "\n",
    "from marynlp.text.processors.formatters import lowercase, remove_punctuations, white_space_cleaning\n",
    "from marynlp import funcutils as f\n",
    "\n",
    "data_path = Path(\"../resources/data\")\n",
    "helsinki_na_path = data_path / Path(\"./hcs-na-v2\")\n",
    "\n",
    "# File to test out the concept\n",
    "sample_file = helsinki_na_path / Path(\"./new-mat/bunge/han1-2004.shu\")\n",
    "\n",
    "def lowercase(text):\n",
    "    return text.lower()\n",
    "\n",
    "def ignore_rules(text: str):\n",
    "    return not (text.find(\"<text\") > -1 or text.find(\"</text>\") > -1)\n",
    "\n",
    "def should_be_longer_that_20(text: str):\n",
    "    return len(text) > 20\n",
    "\n",
    "@f.forEach(lowercase)\n",
    "@f.filterBy(f.rules(should_be_longer_that_20, ignore_rules))\n",
    "def load_file(file):\n",
    "    with open(file, \"r\") as f:\n",
    "        return f.readlines()\n",
    "    \n",
    "def save_to_file(file, content: Iterable[str]):\n",
    "    with open(file, \"w\") as wf:\n",
    "        for line in content:\n",
    "            wf.write(line)\n",
    "    \n",
    "filtered_fn = f.filterBy(f.rules(should_be_longer_that_20, ignore_rules))(load_file)\n",
    "\n",
    "folder_path = \"../resources/operate_on\"\n",
    "!mkdir -p {folder_path}\n",
    "save_to_file(f'{folder_path}/dummy.txt', filtered_fn(sample_file))"
   ]
  },
  {
   "cell_type": "markdown",
   "id": "57a68279-5768-4079-ac7b-3c69da64669b",
   "metadata": {},
   "source": [
    "## Regular"
   ]
  },
  {
   "cell_type": "code",
   "execution_count": null,
   "id": "e2761eae-0ec8-4ec8-964c-1b7b0ef490e6",
   "metadata": {},
   "outputs": [],
   "source": [
    "# Working with the fasttext contents"
   ]
  },
  {
   "cell_type": "markdown",
   "id": "cdbdeef1-229c-4f22-88cd-fb18565690f4",
   "metadata": {},
   "source": [
    "## SED"
   ]
  },
  {
   "cell_type": "code",
   "execution_count": null,
   "id": "25494ec6-418d-459e-b63d-57167549e1c6",
   "metadata": {},
   "outputs": [],
   "source": []
  },
  {
   "cell_type": "markdown",
   "id": "8e2a9fb5-c93e-48cf-bbaa-7a215de7dc3b",
   "metadata": {},
   "source": [
    "## Voice"
   ]
  },
  {
   "cell_type": "code",
   "execution_count": null,
   "id": "14e5607a-3cf0-4288-91a3-9a42b7cc9907",
   "metadata": {},
   "outputs": [],
   "source": []
  }
 ],
 "metadata": {
  "kernelspec": {
   "display_name": "Python 3 (ipykernel)",
   "language": "python",
   "name": "python3"
  },
  "language_info": {
   "codemirror_mode": {
    "name": "ipython",
    "version": 3
   },
   "file_extension": ".py",
   "mimetype": "text/x-python",
   "name": "python",
   "nbconvert_exporter": "python",
   "pygments_lexer": "ipython3",
   "version": "3.7.11"
  }
 },
 "nbformat": 4,
 "nbformat_minor": 5
}
