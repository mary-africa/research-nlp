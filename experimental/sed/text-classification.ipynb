{
 "cells": [
  {
   "cell_type": "code",
   "execution_count": 84,
   "id": "213fc73a-7f82-45b8-a0f8-8d3d5a2ba022",
   "metadata": {},
   "outputs": [
    {
     "name": "stdout",
     "output_type": "stream",
     "text": [
      "The autoreload extension is already loaded. To reload it, use:\n",
      "  %reload_ext autoreload\n"
     ]
    }
   ],
   "source": [
    "%load_ext autoreload\n",
    "%autoreload 2"
   ]
  },
  {
   "cell_type": "code",
   "execution_count": 22,
   "id": "8e3a2c35-97d8-4562-bbdb-0439d7dd7546",
   "metadata": {},
   "outputs": [],
   "source": [
    "from pathlib import Path\n",
    "\n",
    "DATA_DIR='./emotions'#path to csv data file\n",
    "wd = Path(DATA_DIR)\n",
    "\n",
    "emotions = ['angry', 'fear', 'happy', 'sad']\n",
    "sentiments = ['positive', 'negative']"
   ]
  },
  {
   "cell_type": "code",
   "execution_count": 23,
   "id": "a3ca0384-ec91-4a5b-be7c-6df2cfe9ee49",
   "metadata": {},
   "outputs": [],
   "source": [
    "import pandas as pd\n",
    "\n",
    "def merge_df(working_dir: str, emotions):\n",
    "    \"\"\"\n",
    "    Helper function to prepare the data by adding appropriate labels\n",
    "    \"\"\"\n",
    "\n",
    "    dfs = []\n",
    "    for cl in emotions:\n",
    "        df = pd.read_csv(working_dir.joinpath(f'{cl}.csv')).drop(columns=['Unnamed: 1']).dropna()\n",
    "        df['emotion'] = cl\n",
    "        if cl == 'happy':\n",
    "            df['sentiment'] = 'positive'\n",
    "        else:\n",
    "            df['sentiment'] = 'negative'\n",
    "        dfs.append(df)\n",
    "        \n",
    "    return pd.concat(dfs)"
   ]
  },
  {
   "cell_type": "code",
   "execution_count": 44,
   "id": "b221605a-8b75-409a-a775-a8244bac8645",
   "metadata": {},
   "outputs": [],
   "source": [
    "from sklearn.preprocessing import LabelEncoder\n",
    "\n",
    "#load and prepare dataframe\n",
    "df = merge_df(wd, emotions)\n",
    "df = df[df['Sentensi'].str.split().str.len().ge(2)]\n",
    "\n",
    "#encoding the labels\n",
    "sle, ele = LabelEncoder(),LabelEncoder()\n",
    "for col,le in zip(['emotion', 'sentiment'], [ele, sle]):\n",
    "    df[col] = le.fit_transform(df[col])"
   ]
  },
  {
   "cell_type": "code",
   "execution_count": 86,
   "id": "ac0f2cec-3c4f-4e2b-bfde-72bf8af26986",
   "metadata": {
    "tags": []
   },
   "outputs": [
    {
     "data": {
      "application/vnd.jupyter.widget-view+json": {
       "model_id": "6921ba8ddeb34451ac7c6d45f4b99f3c",
       "version_major": 2,
       "version_minor": 0
      },
      "text/plain": [
       "  0%|          | 0/8600 [00:00<?, ?it/s]"
      ]
     },
     "metadata": {},
     "output_type": "display_data"
    }
   ],
   "source": [
    "from text.data.vocab import Vocab\n",
    "\n",
    "sentiment_voc = Vocab(data=df, text_col='Sentensi', morpheme_template='./df_morphs.txt')"
   ]
  },
  {
   "cell_type": "code",
   "execution_count": 87,
   "id": "0a298621-945d-412f-9cba-8c33233d6447",
   "metadata": {},
   "outputs": [],
   "source": [
    "from text.data.datasets import SAMDataset\n",
    "\n",
    "data = SAMDataset(sentiment_voc, 'emotion', 'sentiment')"
   ]
  },
  {
   "cell_type": "code",
   "execution_count": 90,
   "id": "63d07bd0-4a5c-4b38-94e0-8066816d26b1",
   "metadata": {},
   "outputs": [
    {
     "data": {
      "text/plain": [
       "([[[775],\n",
       "   [561, 1592],\n",
       "   [1511, 1902],\n",
       "   [1361],\n",
       "   [1092, 211],\n",
       "   [821, 599],\n",
       "   [73, 2023]]],\n",
       " 0,\n",
       " 0)"
      ]
     },
     "execution_count": 90,
     "metadata": {},
     "output_type": "execute_result"
    }
   ],
   "source": [
    "data[1]"
   ]
  },
  {
   "cell_type": "code",
   "execution_count": 103,
   "id": "6195aa81-898b-406c-97f6-2125f627fe45",
   "metadata": {},
   "outputs": [
    {
     "data": {
      "text/plain": [
       "[[tensor(5544),\n",
       "  tensor(3314),\n",
       "  tensor(1781),\n",
       "  tensor(3149),\n",
       "  tensor(1996),\n",
       "  tensor(8234),\n",
       "  tensor(1708),\n",
       "  tensor(6179)],\n",
       " [tensor(2858),\n",
       "  tensor(1996),\n",
       "  tensor(8594),\n",
       "  tensor(5544),\n",
       "  tensor(4849),\n",
       "  tensor(2904),\n",
       "  tensor(728)]]"
      ]
     },
     "execution_count": 103,
     "metadata": {},
     "output_type": "execute_result"
    }
   ],
   "source": [
    "[[torch.as_tensor(sentiment_voc.label_encoder.encode(str(word))) for word in sentence.words] for i in range(2) for sentence in sentiment_voc.document[i]]"
   ]
  }
 ],
 "metadata": {
  "kernelspec": {
   "display_name": "Python 3",
   "language": "python",
   "name": "python3"
  },
  "language_info": {
   "codemirror_mode": {
    "name": "ipython",
    "version": 3
   },
   "file_extension": ".py",
   "mimetype": "text/x-python",
   "name": "python",
   "nbconvert_exporter": "python",
   "pygments_lexer": "ipython3",
   "version": "3.7.10"
  }
 },
 "nbformat": 4,
 "nbformat_minor": 5
}
